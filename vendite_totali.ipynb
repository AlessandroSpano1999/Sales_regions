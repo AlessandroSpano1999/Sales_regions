{
 "cells": [
  {
   "cell_type": "code",
   "execution_count": 1,
   "id": "0615450e",
   "metadata": {},
   "outputs": [],
   "source": [
    "import pandas as pd\n",
    "import matplotlib.pyplot as plt\n",
    "import seaborn as sns\n",
    "import numpy as np\n",
    "from matplotlib.ticker import FuncFormatter\n",
    "import pyodbc\n",
    "from datetime import datetime"
   ]
  },
  {
   "cell_type": "code",
   "execution_count": 2,
   "id": "0ad3a1b6",
   "metadata": {},
   "outputs": [
    {
     "name": "stdout",
     "output_type": "stream",
     "text": [
      "Requirement already satisfied: streamlit in c:\\users\\aless\\onedrive\\documenti\\anaconda\\lib\\site-packages (1.28.1)\n",
      "Requirement already satisfied: typing-extensions<5,>=4.3.0 in c:\\users\\aless\\onedrive\\documenti\\anaconda\\lib\\site-packages (from streamlit) (4.7.1)\n",
      "Requirement already satisfied: requests<3,>=2.27 in c:\\users\\aless\\onedrive\\documenti\\anaconda\\lib\\site-packages (from streamlit) (2.31.0)\n",
      "Requirement already satisfied: importlib-metadata<7,>=1.4 in c:\\users\\aless\\onedrive\\documenti\\anaconda\\lib\\site-packages (from streamlit) (4.11.3)\n",
      "Requirement already satisfied: pyarrow>=6.0 in c:\\users\\aless\\onedrive\\documenti\\anaconda\\lib\\site-packages (from streamlit) (14.0.1)\n",
      "Requirement already satisfied: protobuf<5,>=3.20 in c:\\users\\aless\\onedrive\\documenti\\anaconda\\lib\\site-packages (from streamlit) (4.25.0)\n",
      "Requirement already satisfied: tornado<7,>=6.0.3 in c:\\users\\aless\\onedrive\\documenti\\anaconda\\lib\\site-packages (from streamlit) (6.3.2)\n",
      "Requirement already satisfied: python-dateutil<3,>=2.7.3 in c:\\users\\aless\\onedrive\\documenti\\anaconda\\lib\\site-packages (from streamlit) (2.8.2)\n",
      "Requirement already satisfied: numpy<2,>=1.19.3 in c:\\users\\aless\\onedrive\\documenti\\anaconda\\lib\\site-packages (from streamlit) (1.23.5)\n",
      "Requirement already satisfied: gitpython!=3.1.19,<4,>=3.0.7 in c:\\users\\aless\\onedrive\\documenti\\anaconda\\lib\\site-packages (from streamlit) (3.1.40)\n",
      "Requirement already satisfied: cachetools<6,>=4.0 in c:\\users\\aless\\onedrive\\documenti\\anaconda\\lib\\site-packages (from streamlit) (5.3.2)\n",
      "Requirement already satisfied: blinker<2,>=1.0.0 in c:\\users\\aless\\onedrive\\documenti\\anaconda\\lib\\site-packages (from streamlit) (1.7.0)\n",
      "Requirement already satisfied: pillow<11,>=7.1.0 in c:\\users\\aless\\onedrive\\documenti\\anaconda\\lib\\site-packages (from streamlit) (9.4.0)\n",
      "Requirement already satisfied: watchdog>=2.1.5 in c:\\users\\aless\\onedrive\\documenti\\anaconda\\lib\\site-packages (from streamlit) (2.1.6)\n",
      "Requirement already satisfied: rich<14,>=10.14.0 in c:\\users\\aless\\onedrive\\documenti\\anaconda\\lib\\site-packages (from streamlit) (13.6.0)\n",
      "Requirement already satisfied: validators<1,>=0.2 in c:\\users\\aless\\onedrive\\documenti\\anaconda\\lib\\site-packages (from streamlit) (0.22.0)\n",
      "Requirement already satisfied: tenacity<9,>=8.1.0 in c:\\users\\aless\\onedrive\\documenti\\anaconda\\lib\\site-packages (from streamlit) (8.2.3)\n",
      "Requirement already satisfied: toml<2,>=0.10.1 in c:\\users\\aless\\onedrive\\documenti\\anaconda\\lib\\site-packages (from streamlit) (0.10.2)\n",
      "Requirement already satisfied: pandas<3,>=1.3.0 in c:\\users\\aless\\onedrive\\documenti\\anaconda\\lib\\site-packages (from streamlit) (2.0.3)\n",
      "Requirement already satisfied: pydeck<1,>=0.8.0b4 in c:\\users\\aless\\onedrive\\documenti\\anaconda\\lib\\site-packages (from streamlit) (0.8.1b0)\n",
      "Requirement already satisfied: tzlocal<6,>=1.1 in c:\\users\\aless\\onedrive\\documenti\\anaconda\\lib\\site-packages (from streamlit) (5.2)\n",
      "Requirement already satisfied: packaging<24,>=16.8 in c:\\users\\aless\\onedrive\\documenti\\anaconda\\lib\\site-packages (from streamlit) (23.1)\n",
      "Requirement already satisfied: altair<6,>=4.0 in c:\\users\\aless\\onedrive\\documenti\\anaconda\\lib\\site-packages (from streamlit) (5.1.2)\n",
      "Requirement already satisfied: click<9,>=7.0 in c:\\users\\aless\\onedrive\\documenti\\anaconda\\lib\\site-packages (from streamlit) (8.0.4)\n",
      "Requirement already satisfied: toolz in c:\\users\\aless\\onedrive\\documenti\\anaconda\\lib\\site-packages (from altair<6,>=4.0->streamlit) (0.12.0)\n",
      "Requirement already satisfied: jinja2 in c:\\users\\aless\\onedrive\\documenti\\anaconda\\lib\\site-packages (from altair<6,>=4.0->streamlit) (3.1.2)\n",
      "Requirement already satisfied: jsonschema>=3.0 in c:\\users\\aless\\onedrive\\documenti\\anaconda\\lib\\site-packages (from altair<6,>=4.0->streamlit) (4.17.3)\n",
      "Requirement already satisfied: colorama in c:\\users\\aless\\onedrive\\documenti\\anaconda\\lib\\site-packages (from click<9,>=7.0->streamlit) (0.4.6)\n",
      "Requirement already satisfied: gitdb<5,>=4.0.1 in c:\\users\\aless\\onedrive\\documenti\\anaconda\\lib\\site-packages (from gitpython!=3.1.19,<4,>=3.0.7->streamlit) (4.0.11)\n",
      "Requirement already satisfied: zipp>=0.5 in c:\\users\\aless\\onedrive\\documenti\\anaconda\\lib\\site-packages (from importlib-metadata<7,>=1.4->streamlit) (3.11.0)\n",
      "Requirement already satisfied: tzdata>=2022.1 in c:\\users\\aless\\onedrive\\documenti\\anaconda\\lib\\site-packages (from pandas<3,>=1.3.0->streamlit) (2023.3)\n",
      "Requirement already satisfied: pytz>=2020.1 in c:\\users\\aless\\onedrive\\documenti\\anaconda\\lib\\site-packages (from pandas<3,>=1.3.0->streamlit) (2023.3.post1)\n",
      "Requirement already satisfied: six>=1.5 in c:\\users\\aless\\onedrive\\documenti\\anaconda\\lib\\site-packages (from python-dateutil<3,>=2.7.3->streamlit) (1.16.0)\n",
      "Requirement already satisfied: urllib3<3,>=1.21.1 in c:\\users\\aless\\onedrive\\documenti\\anaconda\\lib\\site-packages (from requests<3,>=2.27->streamlit) (1.26.16)\n",
      "Requirement already satisfied: certifi>=2017.4.17 in c:\\users\\aless\\onedrive\\documenti\\anaconda\\lib\\site-packages (from requests<3,>=2.27->streamlit) (2023.7.22)\n",
      "Requirement already satisfied: idna<4,>=2.5 in c:\\users\\aless\\onedrive\\documenti\\anaconda\\lib\\site-packages (from requests<3,>=2.27->streamlit) (3.4)\n",
      "Requirement already satisfied: charset-normalizer<4,>=2 in c:\\users\\aless\\onedrive\\documenti\\anaconda\\lib\\site-packages (from requests<3,>=2.27->streamlit) (2.0.4)\n",
      "Requirement already satisfied: pygments<3.0.0,>=2.13.0 in c:\\users\\aless\\onedrive\\documenti\\anaconda\\lib\\site-packages (from rich<14,>=10.14.0->streamlit) (2.15.1)\n",
      "Requirement already satisfied: markdown-it-py>=2.2.0 in c:\\users\\aless\\onedrive\\documenti\\anaconda\\lib\\site-packages (from rich<14,>=10.14.0->streamlit) (3.0.0)\n",
      "Requirement already satisfied: smmap<6,>=3.0.1 in c:\\users\\aless\\onedrive\\documenti\\anaconda\\lib\\site-packages (from gitdb<5,>=4.0.1->gitpython!=3.1.19,<4,>=3.0.7->streamlit) (5.0.1)\n",
      "Requirement already satisfied: MarkupSafe>=2.0 in c:\\users\\aless\\onedrive\\documenti\\anaconda\\lib\\site-packages (from jinja2->altair<6,>=4.0->streamlit) (2.1.1)\n",
      "Requirement already satisfied: pyrsistent!=0.17.0,!=0.17.1,!=0.17.2,>=0.14.0 in c:\\users\\aless\\onedrive\\documenti\\anaconda\\lib\\site-packages (from jsonschema>=3.0->altair<6,>=4.0->streamlit) (0.18.0)\n",
      "Requirement already satisfied: attrs>=17.4.0 in c:\\users\\aless\\onedrive\\documenti\\anaconda\\lib\\site-packages (from jsonschema>=3.0->altair<6,>=4.0->streamlit) (23.1.0)\n",
      "Requirement already satisfied: mdurl~=0.1 in c:\\users\\aless\\onedrive\\documenti\\anaconda\\lib\\site-packages (from markdown-it-py>=2.2.0->rich<14,>=10.14.0->streamlit) (0.1.2)\n",
      "Note: you may need to restart the kernel to use updated packages.\n"
     ]
    },
    {
     "name": "stderr",
     "output_type": "stream",
     "text": [
      "WARNING: Ignoring invalid distribution -atplotlib (c:\\users\\aless\\onedrive\\documenti\\anaconda\\lib\\site-packages)\n",
      "WARNING: Ignoring invalid distribution -atplotlib (c:\\users\\aless\\onedrive\\documenti\\anaconda\\lib\\site-packages)\n",
      "WARNING: Ignoring invalid distribution -atplotlib (c:\\users\\aless\\onedrive\\documenti\\anaconda\\lib\\site-packages)\n",
      "WARNING: Ignoring invalid distribution -atplotlib (c:\\users\\aless\\onedrive\\documenti\\anaconda\\lib\\site-packages)\n",
      "WARNING: Ignoring invalid distribution -atplotlib (c:\\users\\aless\\onedrive\\documenti\\anaconda\\lib\\site-packages)\n",
      "WARNING: Ignoring invalid distribution -atplotlib (c:\\users\\aless\\onedrive\\documenti\\anaconda\\lib\\site-packages)\n"
     ]
    }
   ],
   "source": [
    "pip install streamlit"
   ]
  },
  {
   "cell_type": "markdown",
   "id": "88999431",
   "metadata": {},
   "source": [
    "# Prodotti"
   ]
  },
  {
   "cell_type": "code",
   "execution_count": 3,
   "id": "46e383d1",
   "metadata": {},
   "outputs": [
    {
     "data": {
      "text/html": [
       "<div>\n",
       "<style scoped>\n",
       "    .dataframe tbody tr th:only-of-type {\n",
       "        vertical-align: middle;\n",
       "    }\n",
       "\n",
       "    .dataframe tbody tr th {\n",
       "        vertical-align: top;\n",
       "    }\n",
       "\n",
       "    .dataframe thead th {\n",
       "        text-align: right;\n",
       "    }\n",
       "</style>\n",
       "<table border=\"1\" class=\"dataframe\">\n",
       "  <thead>\n",
       "    <tr style=\"text-align: right;\">\n",
       "      <th></th>\n",
       "      <th>CodiceProd</th>\n",
       "      <th>Costo</th>\n",
       "      <th>PrezzoUnitario</th>\n",
       "      <th>Categoria</th>\n",
       "    </tr>\n",
       "  </thead>\n",
       "  <tbody>\n",
       "    <tr>\n",
       "      <th>0</th>\n",
       "      <td>A80DG</td>\n",
       "      <td>235</td>\n",
       "      <td>290</td>\n",
       "      <td>Elettronica</td>\n",
       "    </tr>\n",
       "    <tr>\n",
       "      <th>1</th>\n",
       "      <td>AB73FT</td>\n",
       "      <td>114</td>\n",
       "      <td>167</td>\n",
       "      <td>Informatica</td>\n",
       "    </tr>\n",
       "    <tr>\n",
       "      <th>2</th>\n",
       "      <td>K72FF</td>\n",
       "      <td>95</td>\n",
       "      <td>122</td>\n",
       "      <td>Informatica</td>\n",
       "    </tr>\n",
       "    <tr>\n",
       "      <th>3</th>\n",
       "      <td>LW46HT</td>\n",
       "      <td>158</td>\n",
       "      <td>199</td>\n",
       "      <td>Audiovideo</td>\n",
       "    </tr>\n",
       "  </tbody>\n",
       "</table>\n",
       "</div>"
      ],
      "text/plain": [
       "  CodiceProd  Costo  PrezzoUnitario    Categoria\n",
       "0      A80DG    235             290  Elettronica\n",
       "1     AB73FT    114             167  Informatica\n",
       "2      K72FF     95             122  Informatica\n",
       "3     LW46HT    158             199   Audiovideo"
      ]
     },
     "execution_count": 3,
     "metadata": {},
     "output_type": "execute_result"
    }
   ],
   "source": [
    "#elenco dei prodotti\n",
    "prodotti=pd.read_excel('Prodotti.xlsx')\n",
    "prodotti['Categoria']=['Elettronica','Informatica','Informatica','Audiovideo']\n",
    "prodotti= prodotti.rename(columns={'CodiceProdotto': 'CodiceProd'})\n",
    "prodotti"
   ]
  },
  {
   "cell_type": "code",
   "execution_count": 4,
   "id": "6bb9c7bf",
   "metadata": {},
   "outputs": [
    {
     "name": "stdout",
     "output_type": "stream",
     "text": [
      "<class 'pandas.core.frame.DataFrame'>\n",
      "RangeIndex: 4 entries, 0 to 3\n",
      "Data columns (total 4 columns):\n",
      " #   Column          Non-Null Count  Dtype \n",
      "---  ------          --------------  ----- \n",
      " 0   CodiceProd      4 non-null      object\n",
      " 1   Costo           4 non-null      int64 \n",
      " 2   PrezzoUnitario  4 non-null      int64 \n",
      " 3   Categoria       4 non-null      object\n",
      "dtypes: int64(2), object(2)\n",
      "memory usage: 256.0+ bytes\n"
     ]
    }
   ],
   "source": [
    "prodotti.info()"
   ]
  },
  {
   "cell_type": "markdown",
   "id": "f8a05ea2",
   "metadata": {},
   "source": [
    "# Vendite Lombardia"
   ]
  },
  {
   "cell_type": "code",
   "execution_count": 5,
   "id": "be17a285",
   "metadata": {},
   "outputs": [
    {
     "name": "stderr",
     "output_type": "stream",
     "text": [
      "C:\\Users\\aless\\AppData\\Local\\Temp\\ipykernel_19044\\2917420562.py:17: UserWarning: pandas only supports SQLAlchemy connectable (engine/connection) or database string URI or sqlite3 DBAPI2 connection. Other DBAPI2 objects are not tested. Please consider using SQLAlchemy.\n",
      "  vendite_Lomb = pd.read_sql(query, conn)\n"
     ]
    }
   ],
   "source": [
    "import pyodbc\n",
    "import pandas as pd\n",
    "\n",
    "# Configura la stringa di connessione al tuo database Access\n",
    "conn_str = (\n",
    "    r'DRIVER={Microsoft Access Driver (*.mdb, *.accdb)};'\n",
    "    r'DBQ=C:\\Users\\aless\\OneDrive\\Desktop\\PDF Neural Academy\\pdf_pratica\\lezione_13\\Vendite_Lombardia.accdb;'\n",
    ")\n",
    "\n",
    "# Crea una connessione al database Access\n",
    "conn = pyodbc.connect(conn_str)\n",
    "\n",
    "# Sostituisci 'table_name' con il nome della tabella che desideri convertire in CSV\n",
    "query = \"SELECT * FROM Vendite_Lombardia\"\n",
    "\n",
    "# Esegui la query SQL e leggi i dati in un DataFrame di Pandas\n",
    "vendite_Lomb = pd.read_sql(query, conn)\n",
    "\n",
    "# Chiudi la connessione al database Access\n",
    "conn.close()\n",
    "\n",
    "# Salva il DataFrame in un file CSV\n",
    "vendite_Lomb.to_excel('Vendite_Lombardia.xlsx', index=False)  # 'output.csv' è il nome del file CSV di output\n"
   ]
  },
  {
   "cell_type": "code",
   "execution_count": 6,
   "id": "a39deec3",
   "metadata": {},
   "outputs": [
    {
     "data": {
      "text/html": [
       "<div>\n",
       "<style scoped>\n",
       "    .dataframe tbody tr th:only-of-type {\n",
       "        vertical-align: middle;\n",
       "    }\n",
       "\n",
       "    .dataframe tbody tr th {\n",
       "        vertical-align: top;\n",
       "    }\n",
       "\n",
       "    .dataframe thead th {\n",
       "        text-align: right;\n",
       "    }\n",
       "</style>\n",
       "<table border=\"1\" class=\"dataframe\">\n",
       "  <thead>\n",
       "    <tr style=\"text-align: right;\">\n",
       "      <th></th>\n",
       "      <th>ID</th>\n",
       "      <th>DataVendita</th>\n",
       "      <th>CodiceProd</th>\n",
       "      <th>Quantità</th>\n",
       "    </tr>\n",
       "  </thead>\n",
       "  <tbody>\n",
       "    <tr>\n",
       "      <th>0</th>\n",
       "      <td>1</td>\n",
       "      <td>2015-01-05</td>\n",
       "      <td>K72FF</td>\n",
       "      <td>50.0</td>\n",
       "    </tr>\n",
       "    <tr>\n",
       "      <th>1</th>\n",
       "      <td>2</td>\n",
       "      <td>2015-01-03</td>\n",
       "      <td>K72FF</td>\n",
       "      <td>85.0</td>\n",
       "    </tr>\n",
       "    <tr>\n",
       "      <th>2</th>\n",
       "      <td>3</td>\n",
       "      <td>2014-12-28</td>\n",
       "      <td>LW46HT</td>\n",
       "      <td>40.0</td>\n",
       "    </tr>\n",
       "    <tr>\n",
       "      <th>3</th>\n",
       "      <td>4</td>\n",
       "      <td>2015-01-02</td>\n",
       "      <td>LW46HT</td>\n",
       "      <td>75.0</td>\n",
       "    </tr>\n",
       "    <tr>\n",
       "      <th>4</th>\n",
       "      <td>5</td>\n",
       "      <td>2015-01-05</td>\n",
       "      <td>LW46HT</td>\n",
       "      <td>90.0</td>\n",
       "    </tr>\n",
       "    <tr>\n",
       "      <th>...</th>\n",
       "      <td>...</td>\n",
       "      <td>...</td>\n",
       "      <td>...</td>\n",
       "      <td>...</td>\n",
       "    </tr>\n",
       "    <tr>\n",
       "      <th>2564</th>\n",
       "      <td>2565</td>\n",
       "      <td>2015-01-03</td>\n",
       "      <td>AB73FT</td>\n",
       "      <td>80.0</td>\n",
       "    </tr>\n",
       "    <tr>\n",
       "      <th>2565</th>\n",
       "      <td>2566</td>\n",
       "      <td>2015-01-01</td>\n",
       "      <td>K72FF</td>\n",
       "      <td>90.0</td>\n",
       "    </tr>\n",
       "    <tr>\n",
       "      <th>2566</th>\n",
       "      <td>2567</td>\n",
       "      <td>2014-12-30</td>\n",
       "      <td>LW46HT</td>\n",
       "      <td>85.0</td>\n",
       "    </tr>\n",
       "    <tr>\n",
       "      <th>2567</th>\n",
       "      <td>2568</td>\n",
       "      <td>2014-12-28</td>\n",
       "      <td>LW46HT</td>\n",
       "      <td>100.0</td>\n",
       "    </tr>\n",
       "    <tr>\n",
       "      <th>2568</th>\n",
       "      <td>2569</td>\n",
       "      <td>2014-12-31</td>\n",
       "      <td>LW46HT</td>\n",
       "      <td>25.0</td>\n",
       "    </tr>\n",
       "  </tbody>\n",
       "</table>\n",
       "<p>2569 rows × 4 columns</p>\n",
       "</div>"
      ],
      "text/plain": [
       "        ID DataVendita CodiceProd  Quantità\n",
       "0        1  2015-01-05      K72FF      50.0\n",
       "1        2  2015-01-03      K72FF      85.0\n",
       "2        3  2014-12-28     LW46HT      40.0\n",
       "3        4  2015-01-02     LW46HT      75.0\n",
       "4        5  2015-01-05     LW46HT      90.0\n",
       "...    ...         ...        ...       ...\n",
       "2564  2565  2015-01-03     AB73FT      80.0\n",
       "2565  2566  2015-01-01      K72FF      90.0\n",
       "2566  2567  2014-12-30     LW46HT      85.0\n",
       "2567  2568  2014-12-28     LW46HT     100.0\n",
       "2568  2569  2014-12-31     LW46HT      25.0\n",
       "\n",
       "[2569 rows x 4 columns]"
      ]
     },
     "execution_count": 6,
     "metadata": {},
     "output_type": "execute_result"
    }
   ],
   "source": [
    "vendite_Lomb"
   ]
  },
  {
   "cell_type": "code",
   "execution_count": 7,
   "id": "a1fade8e",
   "metadata": {},
   "outputs": [],
   "source": [
    "vendite_Lomb=vendite_Lomb.drop(columns='ID')\n",
    "vendite_Lomb['DataVendita'] = pd.to_datetime(vendite_Lomb['DataVendita'])\n",
    "vendite_Lomb= vendite_Lomb.rename(columns={'DataVendita': 'Data'})\n",
    "vendite_Lomb.insert(0,'Regione',['Lombardia' for x in range(len(vendite_Lomb))])\n",
    "vendite_Lomb.Quantità = vendite_Lomb.Quantità.astype('int64')"
   ]
  },
  {
   "cell_type": "code",
   "execution_count": 8,
   "id": "252ae3bb",
   "metadata": {},
   "outputs": [
    {
     "name": "stdout",
     "output_type": "stream",
     "text": [
      "<class 'pandas.core.frame.DataFrame'>\n",
      "RangeIndex: 2569 entries, 0 to 2568\n",
      "Data columns (total 4 columns):\n",
      " #   Column      Non-Null Count  Dtype         \n",
      "---  ------      --------------  -----         \n",
      " 0   Regione     2569 non-null   object        \n",
      " 1   Data        2569 non-null   datetime64[ns]\n",
      " 2   CodiceProd  2569 non-null   object        \n",
      " 3   Quantità    2569 non-null   int64         \n",
      "dtypes: datetime64[ns](1), int64(1), object(2)\n",
      "memory usage: 80.4+ KB\n"
     ]
    }
   ],
   "source": [
    "vendite_Lomb.info()"
   ]
  },
  {
   "cell_type": "code",
   "execution_count": 9,
   "id": "d0797fbf",
   "metadata": {},
   "outputs": [
    {
     "data": {
      "text/plain": [
       "CodiceProd\n",
       "A80DG     36790\n",
       "AB73FT    35610\n",
       "K72FF     34290\n",
       "LW46HT    36545\n",
       "Name: Quantità, dtype: int64"
      ]
     },
     "execution_count": 9,
     "metadata": {},
     "output_type": "execute_result"
    }
   ],
   "source": [
    "vendite_Lomb.groupby(by='CodiceProd').Quantità.sum()"
   ]
  },
  {
   "cell_type": "markdown",
   "id": "bdea4210",
   "metadata": {},
   "source": [
    "# Vendite Veneto"
   ]
  },
  {
   "cell_type": "code",
   "execution_count": 10,
   "id": "f8376ddb",
   "metadata": {},
   "outputs": [],
   "source": [
    "#vendite Veneto\n",
    "vendite_Veneto=pd.read_excel('Vendite_Veneto.xlsx')"
   ]
  },
  {
   "cell_type": "code",
   "execution_count": 11,
   "id": "77fbe669",
   "metadata": {},
   "outputs": [
    {
     "data": {
      "text/html": [
       "<div>\n",
       "<style scoped>\n",
       "    .dataframe tbody tr th:only-of-type {\n",
       "        vertical-align: middle;\n",
       "    }\n",
       "\n",
       "    .dataframe tbody tr th {\n",
       "        vertical-align: top;\n",
       "    }\n",
       "\n",
       "    .dataframe thead th {\n",
       "        text-align: right;\n",
       "    }\n",
       "</style>\n",
       "<table border=\"1\" class=\"dataframe\">\n",
       "  <thead>\n",
       "    <tr style=\"text-align: right;\">\n",
       "      <th></th>\n",
       "      <th>Regione</th>\n",
       "      <th>Data</th>\n",
       "      <th>CodiceProd</th>\n",
       "      <th>Quantità</th>\n",
       "    </tr>\n",
       "  </thead>\n",
       "  <tbody>\n",
       "    <tr>\n",
       "      <th>2566</th>\n",
       "      <td>Veneto</td>\n",
       "      <td>2015-01-06</td>\n",
       "      <td>LW46HT</td>\n",
       "      <td>51</td>\n",
       "    </tr>\n",
       "    <tr>\n",
       "      <th>2567</th>\n",
       "      <td>Veneto</td>\n",
       "      <td>2015-01-06</td>\n",
       "      <td>LW46HT</td>\n",
       "      <td>60</td>\n",
       "    </tr>\n",
       "    <tr>\n",
       "      <th>2568</th>\n",
       "      <td>Veneto</td>\n",
       "      <td>2015-01-06</td>\n",
       "      <td>LW46HT</td>\n",
       "      <td>15</td>\n",
       "    </tr>\n",
       "    <tr>\n",
       "      <th>2569</th>\n",
       "      <td>Veneto</td>\n",
       "      <td>2023-11-04</td>\n",
       "      <td>PROVA</td>\n",
       "      <td>15</td>\n",
       "    </tr>\n",
       "    <tr>\n",
       "      <th>2570</th>\n",
       "      <td>Veneto</td>\n",
       "      <td>2023-11-04</td>\n",
       "      <td>PROVA</td>\n",
       "      <td>15</td>\n",
       "    </tr>\n",
       "  </tbody>\n",
       "</table>\n",
       "</div>"
      ],
      "text/plain": [
       "     Regione       Data CodiceProd  Quantità\n",
       "2566  Veneto 2015-01-06     LW46HT        51\n",
       "2567  Veneto 2015-01-06     LW46HT        60\n",
       "2568  Veneto 2015-01-06     LW46HT        15\n",
       "2569  Veneto 2023-11-04      PROVA        15\n",
       "2570  Veneto 2023-11-04      PROVA        15"
      ]
     },
     "execution_count": 11,
     "metadata": {},
     "output_type": "execute_result"
    }
   ],
   "source": [
    "vendite_Veneto.insert(0,'Regione',['Veneto' for x in range(len(vendite_Veneto))])\n",
    "vendite_Veneto.tail()"
   ]
  },
  {
   "cell_type": "code",
   "execution_count": 12,
   "id": "35804d81",
   "metadata": {},
   "outputs": [
    {
     "name": "stdout",
     "output_type": "stream",
     "text": [
      "<class 'pandas.core.frame.DataFrame'>\n",
      "RangeIndex: 2571 entries, 0 to 2570\n",
      "Data columns (total 4 columns):\n",
      " #   Column      Non-Null Count  Dtype         \n",
      "---  ------      --------------  -----         \n",
      " 0   Regione     2571 non-null   object        \n",
      " 1   Data        2571 non-null   datetime64[ns]\n",
      " 2   CodiceProd  2571 non-null   object        \n",
      " 3   Quantità    2571 non-null   int64         \n",
      "dtypes: datetime64[ns](1), int64(1), object(2)\n",
      "memory usage: 80.5+ KB\n"
     ]
    }
   ],
   "source": [
    "vendite_Veneto.info()"
   ]
  },
  {
   "cell_type": "code",
   "execution_count": 13,
   "id": "eaf9507d",
   "metadata": {},
   "outputs": [
    {
     "data": {
      "text/html": [
       "<div>\n",
       "<style scoped>\n",
       "    .dataframe tbody tr th:only-of-type {\n",
       "        vertical-align: middle;\n",
       "    }\n",
       "\n",
       "    .dataframe tbody tr th {\n",
       "        vertical-align: top;\n",
       "    }\n",
       "\n",
       "    .dataframe thead th {\n",
       "        text-align: right;\n",
       "    }\n",
       "</style>\n",
       "<table border=\"1\" class=\"dataframe\">\n",
       "  <thead>\n",
       "    <tr style=\"text-align: right;\">\n",
       "      <th></th>\n",
       "      <th>Regione</th>\n",
       "      <th>Data</th>\n",
       "      <th>CodiceProd</th>\n",
       "      <th>Quantità</th>\n",
       "    </tr>\n",
       "  </thead>\n",
       "  <tbody>\n",
       "    <tr>\n",
       "      <th>2559</th>\n",
       "      <td>Veneto</td>\n",
       "      <td>2015-01-06</td>\n",
       "      <td>LW46HT</td>\n",
       "      <td>21</td>\n",
       "    </tr>\n",
       "    <tr>\n",
       "      <th>2560</th>\n",
       "      <td>Veneto</td>\n",
       "      <td>2015-01-06</td>\n",
       "      <td>LW46HT</td>\n",
       "      <td>54</td>\n",
       "    </tr>\n",
       "    <tr>\n",
       "      <th>2561</th>\n",
       "      <td>Veneto</td>\n",
       "      <td>2015-01-06</td>\n",
       "      <td>LW46HT</td>\n",
       "      <td>12</td>\n",
       "    </tr>\n",
       "    <tr>\n",
       "      <th>2562</th>\n",
       "      <td>Veneto</td>\n",
       "      <td>2015-01-06</td>\n",
       "      <td>LW46HT</td>\n",
       "      <td>30</td>\n",
       "    </tr>\n",
       "    <tr>\n",
       "      <th>2563</th>\n",
       "      <td>Veneto</td>\n",
       "      <td>2015-01-06</td>\n",
       "      <td>LW46HT</td>\n",
       "      <td>15</td>\n",
       "    </tr>\n",
       "    <tr>\n",
       "      <th>2564</th>\n",
       "      <td>Veneto</td>\n",
       "      <td>2015-01-06</td>\n",
       "      <td>LW46HT</td>\n",
       "      <td>48</td>\n",
       "    </tr>\n",
       "    <tr>\n",
       "      <th>2565</th>\n",
       "      <td>Veneto</td>\n",
       "      <td>2015-01-06</td>\n",
       "      <td>LW46HT</td>\n",
       "      <td>54</td>\n",
       "    </tr>\n",
       "    <tr>\n",
       "      <th>2566</th>\n",
       "      <td>Veneto</td>\n",
       "      <td>2015-01-06</td>\n",
       "      <td>LW46HT</td>\n",
       "      <td>51</td>\n",
       "    </tr>\n",
       "    <tr>\n",
       "      <th>2567</th>\n",
       "      <td>Veneto</td>\n",
       "      <td>2015-01-06</td>\n",
       "      <td>LW46HT</td>\n",
       "      <td>60</td>\n",
       "    </tr>\n",
       "    <tr>\n",
       "      <th>2568</th>\n",
       "      <td>Veneto</td>\n",
       "      <td>2015-01-06</td>\n",
       "      <td>LW46HT</td>\n",
       "      <td>15</td>\n",
       "    </tr>\n",
       "  </tbody>\n",
       "</table>\n",
       "</div>"
      ],
      "text/plain": [
       "     Regione       Data CodiceProd  Quantità\n",
       "2559  Veneto 2015-01-06     LW46HT        21\n",
       "2560  Veneto 2015-01-06     LW46HT        54\n",
       "2561  Veneto 2015-01-06     LW46HT        12\n",
       "2562  Veneto 2015-01-06     LW46HT        30\n",
       "2563  Veneto 2015-01-06     LW46HT        15\n",
       "2564  Veneto 2015-01-06     LW46HT        48\n",
       "2565  Veneto 2015-01-06     LW46HT        54\n",
       "2566  Veneto 2015-01-06     LW46HT        51\n",
       "2567  Veneto 2015-01-06     LW46HT        60\n",
       "2568  Veneto 2015-01-06     LW46HT        15"
      ]
     },
     "execution_count": 13,
     "metadata": {},
     "output_type": "execute_result"
    }
   ],
   "source": [
    "vendite_Veneto=vendite_Veneto.drop([2569,2570])\n",
    "vendite_Veneto.tail(10)"
   ]
  },
  {
   "cell_type": "code",
   "execution_count": 14,
   "id": "464a5aeb",
   "metadata": {},
   "outputs": [
    {
     "data": {
      "text/plain": [
       "CodiceProd\n",
       "A80DG     21822\n",
       "AB73FT    20889\n",
       "K72FF     21525\n",
       "LW46HT    21705\n",
       "Name: Quantità, dtype: int64"
      ]
     },
     "execution_count": 14,
     "metadata": {},
     "output_type": "execute_result"
    }
   ],
   "source": [
    "vendite_Veneto.groupby(by='CodiceProd').Quantità.sum()"
   ]
  },
  {
   "cell_type": "markdown",
   "id": "f2444571",
   "metadata": {},
   "source": [
    "# Vendite Liguria"
   ]
  },
  {
   "cell_type": "code",
   "execution_count": 15,
   "id": "b2ec72bb",
   "metadata": {},
   "outputs": [],
   "source": [
    "#vendite Liguria\n",
    "vendite_Liguria=pd.read_csv('Vendite_Liguria.txt',delimiter=\"\\t\",encoding=\"ISO-8859-1\")"
   ]
  },
  {
   "cell_type": "code",
   "execution_count": 16,
   "id": "cb13b399",
   "metadata": {},
   "outputs": [],
   "source": [
    "vendite_Liguria\n",
    "vendite_Liguria['DataVendita'] = pd.to_datetime(vendite_Liguria['DataVendita'],format=\"%d/%m/%Y\")\n",
    "vendite_Liguria= vendite_Liguria.rename(columns={'DataVendita': 'Data'})\n",
    "vendite_Liguria= vendite_Liguria.rename(columns={'CodiceProdotto': 'CodiceProd'})\n",
    "vendite_Liguria.insert(0,'Regione',['Liguria' for x in range(len(vendite_Liguria))])"
   ]
  },
  {
   "cell_type": "code",
   "execution_count": 17,
   "id": "d5246202",
   "metadata": {},
   "outputs": [
    {
     "name": "stdout",
     "output_type": "stream",
     "text": [
      "<class 'pandas.core.frame.DataFrame'>\n",
      "RangeIndex: 153 entries, 0 to 152\n",
      "Data columns (total 4 columns):\n",
      " #   Column      Non-Null Count  Dtype         \n",
      "---  ------      --------------  -----         \n",
      " 0   Regione     153 non-null    object        \n",
      " 1   Data        153 non-null    datetime64[ns]\n",
      " 2   CodiceProd  153 non-null    object        \n",
      " 3   Quantità    153 non-null    int64         \n",
      "dtypes: datetime64[ns](1), int64(1), object(2)\n",
      "memory usage: 4.9+ KB\n"
     ]
    }
   ],
   "source": [
    "vendite_Liguria.info()"
   ]
  },
  {
   "cell_type": "code",
   "execution_count": 18,
   "id": "be0223b9",
   "metadata": {},
   "outputs": [
    {
     "data": {
      "text/plain": [
       "CodiceProd\n",
       "A80DG     2560\n",
       "AB73FT    1970\n",
       "K72FF     2360\n",
       "LW46HT    1990\n",
       "Name: Quantità, dtype: int64"
      ]
     },
     "execution_count": 18,
     "metadata": {},
     "output_type": "execute_result"
    }
   ],
   "source": [
    "vendite_Liguria.groupby(by='CodiceProd').Quantità.sum()\n"
   ]
  },
  {
   "cell_type": "markdown",
   "id": "3c9286d3",
   "metadata": {},
   "source": [
    "# Prodotti totali venduti"
   ]
  },
  {
   "cell_type": "code",
   "execution_count": 19,
   "id": "f032bd15",
   "metadata": {},
   "outputs": [],
   "source": [
    "#creo il file da usare in excel\n",
    "vendite_totali= vendite_Liguria.copy()"
   ]
  },
  {
   "cell_type": "code",
   "execution_count": 20,
   "id": "ed7b84f6",
   "metadata": {},
   "outputs": [],
   "source": [
    "vendite_totali=vendite_totali.merge(vendite_Lomb,how='outer')"
   ]
  },
  {
   "cell_type": "code",
   "execution_count": 21,
   "id": "67e813c1",
   "metadata": {},
   "outputs": [],
   "source": [
    "vendite_totali=vendite_totali.merge(vendite_Veneto,how='outer')"
   ]
  },
  {
   "cell_type": "code",
   "execution_count": 22,
   "id": "75e742fd",
   "metadata": {},
   "outputs": [],
   "source": [
    "vendite_totali=vendite_totali.merge(prodotti,on='CodiceProd',how='left')"
   ]
  },
  {
   "cell_type": "code",
   "execution_count": 23,
   "id": "2f706f7f",
   "metadata": {},
   "outputs": [
    {
     "data": {
      "text/html": [
       "<div>\n",
       "<style scoped>\n",
       "    .dataframe tbody tr th:only-of-type {\n",
       "        vertical-align: middle;\n",
       "    }\n",
       "\n",
       "    .dataframe tbody tr th {\n",
       "        vertical-align: top;\n",
       "    }\n",
       "\n",
       "    .dataframe thead th {\n",
       "        text-align: right;\n",
       "    }\n",
       "</style>\n",
       "<table border=\"1\" class=\"dataframe\">\n",
       "  <thead>\n",
       "    <tr style=\"text-align: right;\">\n",
       "      <th></th>\n",
       "      <th>Regione</th>\n",
       "      <th>Data</th>\n",
       "      <th>CodiceProd</th>\n",
       "      <th>Quantità</th>\n",
       "      <th>Costo</th>\n",
       "      <th>PrezzoUnitario</th>\n",
       "      <th>Categoria</th>\n",
       "    </tr>\n",
       "  </thead>\n",
       "  <tbody>\n",
       "    <tr>\n",
       "      <th>0</th>\n",
       "      <td>Liguria</td>\n",
       "      <td>2014-12-10</td>\n",
       "      <td>LW46HT</td>\n",
       "      <td>10</td>\n",
       "      <td>158</td>\n",
       "      <td>199</td>\n",
       "      <td>Audiovideo</td>\n",
       "    </tr>\n",
       "    <tr>\n",
       "      <th>1</th>\n",
       "      <td>Liguria</td>\n",
       "      <td>2014-12-10</td>\n",
       "      <td>A80DG</td>\n",
       "      <td>15</td>\n",
       "      <td>235</td>\n",
       "      <td>290</td>\n",
       "      <td>Elettronica</td>\n",
       "    </tr>\n",
       "    <tr>\n",
       "      <th>2</th>\n",
       "      <td>Liguria</td>\n",
       "      <td>2014-12-11</td>\n",
       "      <td>LW46HT</td>\n",
       "      <td>15</td>\n",
       "      <td>158</td>\n",
       "      <td>199</td>\n",
       "      <td>Audiovideo</td>\n",
       "    </tr>\n",
       "    <tr>\n",
       "      <th>3</th>\n",
       "      <td>Liguria</td>\n",
       "      <td>2014-12-11</td>\n",
       "      <td>A80DG</td>\n",
       "      <td>20</td>\n",
       "      <td>235</td>\n",
       "      <td>290</td>\n",
       "      <td>Elettronica</td>\n",
       "    </tr>\n",
       "    <tr>\n",
       "      <th>4</th>\n",
       "      <td>Liguria</td>\n",
       "      <td>2014-12-12</td>\n",
       "      <td>LW46HT</td>\n",
       "      <td>20</td>\n",
       "      <td>158</td>\n",
       "      <td>199</td>\n",
       "      <td>Audiovideo</td>\n",
       "    </tr>\n",
       "    <tr>\n",
       "      <th>...</th>\n",
       "      <td>...</td>\n",
       "      <td>...</td>\n",
       "      <td>...</td>\n",
       "      <td>...</td>\n",
       "      <td>...</td>\n",
       "      <td>...</td>\n",
       "      <td>...</td>\n",
       "    </tr>\n",
       "    <tr>\n",
       "      <th>5286</th>\n",
       "      <td>Veneto</td>\n",
       "      <td>2015-01-06</td>\n",
       "      <td>LW46HT</td>\n",
       "      <td>42</td>\n",
       "      <td>158</td>\n",
       "      <td>199</td>\n",
       "      <td>Audiovideo</td>\n",
       "    </tr>\n",
       "    <tr>\n",
       "      <th>5287</th>\n",
       "      <td>Veneto</td>\n",
       "      <td>2015-01-06</td>\n",
       "      <td>LW46HT</td>\n",
       "      <td>27</td>\n",
       "      <td>158</td>\n",
       "      <td>199</td>\n",
       "      <td>Audiovideo</td>\n",
       "    </tr>\n",
       "    <tr>\n",
       "      <th>5288</th>\n",
       "      <td>Veneto</td>\n",
       "      <td>2015-01-06</td>\n",
       "      <td>LW46HT</td>\n",
       "      <td>18</td>\n",
       "      <td>158</td>\n",
       "      <td>199</td>\n",
       "      <td>Audiovideo</td>\n",
       "    </tr>\n",
       "    <tr>\n",
       "      <th>5289</th>\n",
       "      <td>Veneto</td>\n",
       "      <td>2015-01-06</td>\n",
       "      <td>LW46HT</td>\n",
       "      <td>48</td>\n",
       "      <td>158</td>\n",
       "      <td>199</td>\n",
       "      <td>Audiovideo</td>\n",
       "    </tr>\n",
       "    <tr>\n",
       "      <th>5290</th>\n",
       "      <td>Veneto</td>\n",
       "      <td>2015-01-06</td>\n",
       "      <td>LW46HT</td>\n",
       "      <td>48</td>\n",
       "      <td>158</td>\n",
       "      <td>199</td>\n",
       "      <td>Audiovideo</td>\n",
       "    </tr>\n",
       "  </tbody>\n",
       "</table>\n",
       "<p>5291 rows × 7 columns</p>\n",
       "</div>"
      ],
      "text/plain": [
       "      Regione       Data CodiceProd  Quantità  Costo  PrezzoUnitario  \\\n",
       "0     Liguria 2014-12-10     LW46HT        10    158             199   \n",
       "1     Liguria 2014-12-10      A80DG        15    235             290   \n",
       "2     Liguria 2014-12-11     LW46HT        15    158             199   \n",
       "3     Liguria 2014-12-11      A80DG        20    235             290   \n",
       "4     Liguria 2014-12-12     LW46HT        20    158             199   \n",
       "...       ...        ...        ...       ...    ...             ...   \n",
       "5286   Veneto 2015-01-06     LW46HT        42    158             199   \n",
       "5287   Veneto 2015-01-06     LW46HT        27    158             199   \n",
       "5288   Veneto 2015-01-06     LW46HT        18    158             199   \n",
       "5289   Veneto 2015-01-06     LW46HT        48    158             199   \n",
       "5290   Veneto 2015-01-06     LW46HT        48    158             199   \n",
       "\n",
       "        Categoria  \n",
       "0      Audiovideo  \n",
       "1     Elettronica  \n",
       "2      Audiovideo  \n",
       "3     Elettronica  \n",
       "4      Audiovideo  \n",
       "...           ...  \n",
       "5286   Audiovideo  \n",
       "5287   Audiovideo  \n",
       "5288   Audiovideo  \n",
       "5289   Audiovideo  \n",
       "5290   Audiovideo  \n",
       "\n",
       "[5291 rows x 7 columns]"
      ]
     },
     "execution_count": 23,
     "metadata": {},
     "output_type": "execute_result"
    }
   ],
   "source": [
    "vendite_totali"
   ]
  },
  {
   "cell_type": "code",
   "execution_count": 24,
   "id": "cf5b5d69",
   "metadata": {},
   "outputs": [],
   "source": [
    "#file che userò su excel\n",
    "vendite_totali.to_excel( r'C:\\Users\\aless\\OneDrive\\Desktop\\PDF Neural Academy\\pdf_pratica\\lezione_13\\Vendite_totali.xlsx',index= False)"
   ]
  },
  {
   "cell_type": "code",
   "execution_count": 25,
   "id": "9c03210d",
   "metadata": {},
   "outputs": [
    {
     "data": {
      "text/html": [
       "<div>\n",
       "<style scoped>\n",
       "    .dataframe tbody tr th:only-of-type {\n",
       "        vertical-align: middle;\n",
       "    }\n",
       "\n",
       "    .dataframe tbody tr th {\n",
       "        vertical-align: top;\n",
       "    }\n",
       "\n",
       "    .dataframe thead th {\n",
       "        text-align: right;\n",
       "    }\n",
       "</style>\n",
       "<table border=\"1\" class=\"dataframe\">\n",
       "  <thead>\n",
       "    <tr style=\"text-align: right;\">\n",
       "      <th>Regione</th>\n",
       "      <th>Liguria</th>\n",
       "      <th>Lombardia</th>\n",
       "      <th>Veneto</th>\n",
       "      <th>Totale</th>\n",
       "    </tr>\n",
       "    <tr>\n",
       "      <th>CodiceProd</th>\n",
       "      <th></th>\n",
       "      <th></th>\n",
       "      <th></th>\n",
       "      <th></th>\n",
       "    </tr>\n",
       "  </thead>\n",
       "  <tbody>\n",
       "    <tr>\n",
       "      <th>A80DG</th>\n",
       "      <td>2560</td>\n",
       "      <td>36790</td>\n",
       "      <td>21822</td>\n",
       "      <td>61172</td>\n",
       "    </tr>\n",
       "    <tr>\n",
       "      <th>AB73FT</th>\n",
       "      <td>1970</td>\n",
       "      <td>35610</td>\n",
       "      <td>20889</td>\n",
       "      <td>58469</td>\n",
       "    </tr>\n",
       "    <tr>\n",
       "      <th>K72FF</th>\n",
       "      <td>2360</td>\n",
       "      <td>34290</td>\n",
       "      <td>21525</td>\n",
       "      <td>58175</td>\n",
       "    </tr>\n",
       "    <tr>\n",
       "      <th>LW46HT</th>\n",
       "      <td>1990</td>\n",
       "      <td>36545</td>\n",
       "      <td>21705</td>\n",
       "      <td>60240</td>\n",
       "    </tr>\n",
       "  </tbody>\n",
       "</table>\n",
       "</div>"
      ],
      "text/plain": [
       "Regione     Liguria  Lombardia  Veneto  Totale\n",
       "CodiceProd                                    \n",
       "A80DG          2560      36790   21822   61172\n",
       "AB73FT         1970      35610   20889   58469\n",
       "K72FF          2360      34290   21525   58175\n",
       "LW46HT         1990      36545   21705   60240"
      ]
     },
     "execution_count": 25,
     "metadata": {},
     "output_type": "execute_result"
    }
   ],
   "source": [
    "tabella1=pd.pivot_table(vendite_totali,values='Quantità', index=['CodiceProd'], columns=['Regione'], aggfunc=\"sum\")\n",
    "tabella1['Totale']=tabella1['Liguria']+tabella1['Lombardia']+tabella1['Veneto']\n",
    "\n",
    "tabella1"
   ]
  },
  {
   "cell_type": "code",
   "execution_count": 26,
   "id": "b83549ef",
   "metadata": {},
   "outputs": [],
   "source": [
    "vendite_totali['Costo']=vendite_totali['Costo']*vendite_totali['Quantità']\n",
    "vendite_totali['PrezzoUnitario']=vendite_totali['PrezzoUnitario']*vendite_totali['Quantità']\n",
    "vendite_totali = vendite_totali.rename(columns={'PrezzoUnitario': 'Vendita'})\n",
    "vendite_totali['Margine']=(vendite_totali['Vendita']-vendite_totali['Costo'])"
   ]
  },
  {
   "cell_type": "code",
   "execution_count": 27,
   "id": "5d985ac9",
   "metadata": {},
   "outputs": [
    {
     "data": {
      "text/html": [
       "<div>\n",
       "<style scoped>\n",
       "    .dataframe tbody tr th:only-of-type {\n",
       "        vertical-align: middle;\n",
       "    }\n",
       "\n",
       "    .dataframe tbody tr th {\n",
       "        vertical-align: top;\n",
       "    }\n",
       "\n",
       "    .dataframe thead th {\n",
       "        text-align: right;\n",
       "    }\n",
       "</style>\n",
       "<table border=\"1\" class=\"dataframe\">\n",
       "  <thead>\n",
       "    <tr style=\"text-align: right;\">\n",
       "      <th></th>\n",
       "      <th>Regione</th>\n",
       "      <th>Data</th>\n",
       "      <th>CodiceProd</th>\n",
       "      <th>Quantità</th>\n",
       "      <th>Costo</th>\n",
       "      <th>Vendita</th>\n",
       "      <th>Categoria</th>\n",
       "      <th>Margine</th>\n",
       "    </tr>\n",
       "  </thead>\n",
       "  <tbody>\n",
       "    <tr>\n",
       "      <th>0</th>\n",
       "      <td>Liguria</td>\n",
       "      <td>2014-12-10</td>\n",
       "      <td>LW46HT</td>\n",
       "      <td>10</td>\n",
       "      <td>1580</td>\n",
       "      <td>1990</td>\n",
       "      <td>Audiovideo</td>\n",
       "      <td>410</td>\n",
       "    </tr>\n",
       "    <tr>\n",
       "      <th>1</th>\n",
       "      <td>Liguria</td>\n",
       "      <td>2014-12-10</td>\n",
       "      <td>A80DG</td>\n",
       "      <td>15</td>\n",
       "      <td>3525</td>\n",
       "      <td>4350</td>\n",
       "      <td>Elettronica</td>\n",
       "      <td>825</td>\n",
       "    </tr>\n",
       "    <tr>\n",
       "      <th>2</th>\n",
       "      <td>Liguria</td>\n",
       "      <td>2014-12-11</td>\n",
       "      <td>LW46HT</td>\n",
       "      <td>15</td>\n",
       "      <td>2370</td>\n",
       "      <td>2985</td>\n",
       "      <td>Audiovideo</td>\n",
       "      <td>615</td>\n",
       "    </tr>\n",
       "    <tr>\n",
       "      <th>3</th>\n",
       "      <td>Liguria</td>\n",
       "      <td>2014-12-11</td>\n",
       "      <td>A80DG</td>\n",
       "      <td>20</td>\n",
       "      <td>4700</td>\n",
       "      <td>5800</td>\n",
       "      <td>Elettronica</td>\n",
       "      <td>1100</td>\n",
       "    </tr>\n",
       "    <tr>\n",
       "      <th>4</th>\n",
       "      <td>Liguria</td>\n",
       "      <td>2014-12-12</td>\n",
       "      <td>LW46HT</td>\n",
       "      <td>20</td>\n",
       "      <td>3160</td>\n",
       "      <td>3980</td>\n",
       "      <td>Audiovideo</td>\n",
       "      <td>820</td>\n",
       "    </tr>\n",
       "    <tr>\n",
       "      <th>...</th>\n",
       "      <td>...</td>\n",
       "      <td>...</td>\n",
       "      <td>...</td>\n",
       "      <td>...</td>\n",
       "      <td>...</td>\n",
       "      <td>...</td>\n",
       "      <td>...</td>\n",
       "      <td>...</td>\n",
       "    </tr>\n",
       "    <tr>\n",
       "      <th>5286</th>\n",
       "      <td>Veneto</td>\n",
       "      <td>2015-01-06</td>\n",
       "      <td>LW46HT</td>\n",
       "      <td>42</td>\n",
       "      <td>6636</td>\n",
       "      <td>8358</td>\n",
       "      <td>Audiovideo</td>\n",
       "      <td>1722</td>\n",
       "    </tr>\n",
       "    <tr>\n",
       "      <th>5287</th>\n",
       "      <td>Veneto</td>\n",
       "      <td>2015-01-06</td>\n",
       "      <td>LW46HT</td>\n",
       "      <td>27</td>\n",
       "      <td>4266</td>\n",
       "      <td>5373</td>\n",
       "      <td>Audiovideo</td>\n",
       "      <td>1107</td>\n",
       "    </tr>\n",
       "    <tr>\n",
       "      <th>5288</th>\n",
       "      <td>Veneto</td>\n",
       "      <td>2015-01-06</td>\n",
       "      <td>LW46HT</td>\n",
       "      <td>18</td>\n",
       "      <td>2844</td>\n",
       "      <td>3582</td>\n",
       "      <td>Audiovideo</td>\n",
       "      <td>738</td>\n",
       "    </tr>\n",
       "    <tr>\n",
       "      <th>5289</th>\n",
       "      <td>Veneto</td>\n",
       "      <td>2015-01-06</td>\n",
       "      <td>LW46HT</td>\n",
       "      <td>48</td>\n",
       "      <td>7584</td>\n",
       "      <td>9552</td>\n",
       "      <td>Audiovideo</td>\n",
       "      <td>1968</td>\n",
       "    </tr>\n",
       "    <tr>\n",
       "      <th>5290</th>\n",
       "      <td>Veneto</td>\n",
       "      <td>2015-01-06</td>\n",
       "      <td>LW46HT</td>\n",
       "      <td>48</td>\n",
       "      <td>7584</td>\n",
       "      <td>9552</td>\n",
       "      <td>Audiovideo</td>\n",
       "      <td>1968</td>\n",
       "    </tr>\n",
       "  </tbody>\n",
       "</table>\n",
       "<p>5291 rows × 8 columns</p>\n",
       "</div>"
      ],
      "text/plain": [
       "      Regione       Data CodiceProd  Quantità  Costo  Vendita    Categoria  \\\n",
       "0     Liguria 2014-12-10     LW46HT        10   1580     1990   Audiovideo   \n",
       "1     Liguria 2014-12-10      A80DG        15   3525     4350  Elettronica   \n",
       "2     Liguria 2014-12-11     LW46HT        15   2370     2985   Audiovideo   \n",
       "3     Liguria 2014-12-11      A80DG        20   4700     5800  Elettronica   \n",
       "4     Liguria 2014-12-12     LW46HT        20   3160     3980   Audiovideo   \n",
       "...       ...        ...        ...       ...    ...      ...          ...   \n",
       "5286   Veneto 2015-01-06     LW46HT        42   6636     8358   Audiovideo   \n",
       "5287   Veneto 2015-01-06     LW46HT        27   4266     5373   Audiovideo   \n",
       "5288   Veneto 2015-01-06     LW46HT        18   2844     3582   Audiovideo   \n",
       "5289   Veneto 2015-01-06     LW46HT        48   7584     9552   Audiovideo   \n",
       "5290   Veneto 2015-01-06     LW46HT        48   7584     9552   Audiovideo   \n",
       "\n",
       "      Margine  \n",
       "0         410  \n",
       "1         825  \n",
       "2         615  \n",
       "3        1100  \n",
       "4         820  \n",
       "...       ...  \n",
       "5286     1722  \n",
       "5287     1107  \n",
       "5288      738  \n",
       "5289     1968  \n",
       "5290     1968  \n",
       "\n",
       "[5291 rows x 8 columns]"
      ]
     },
     "execution_count": 27,
     "metadata": {},
     "output_type": "execute_result"
    }
   ],
   "source": [
    "vendite_totali"
   ]
  },
  {
   "cell_type": "code",
   "execution_count": 28,
   "id": "9f40441a",
   "metadata": {},
   "outputs": [
    {
     "data": {
      "text/html": [
       "<div>\n",
       "<style scoped>\n",
       "    .dataframe tbody tr th:only-of-type {\n",
       "        vertical-align: middle;\n",
       "    }\n",
       "\n",
       "    .dataframe tbody tr th {\n",
       "        vertical-align: top;\n",
       "    }\n",
       "\n",
       "    .dataframe thead th {\n",
       "        text-align: right;\n",
       "    }\n",
       "</style>\n",
       "<table border=\"1\" class=\"dataframe\">\n",
       "  <thead>\n",
       "    <tr style=\"text-align: right;\">\n",
       "      <th></th>\n",
       "      <th></th>\n",
       "      <th>Quantità</th>\n",
       "      <th>Costo</th>\n",
       "      <th>Vendita</th>\n",
       "      <th>Margine</th>\n",
       "    </tr>\n",
       "    <tr>\n",
       "      <th>CodiceProd</th>\n",
       "      <th>Regione</th>\n",
       "      <th></th>\n",
       "      <th></th>\n",
       "      <th></th>\n",
       "      <th></th>\n",
       "    </tr>\n",
       "  </thead>\n",
       "  <tbody>\n",
       "    <tr>\n",
       "      <th rowspan=\"3\" valign=\"top\">A80DG</th>\n",
       "      <th>Liguria</th>\n",
       "      <td>2560</td>\n",
       "      <td>601600</td>\n",
       "      <td>742400</td>\n",
       "      <td>140800</td>\n",
       "    </tr>\n",
       "    <tr>\n",
       "      <th>Lombardia</th>\n",
       "      <td>36790</td>\n",
       "      <td>8645650</td>\n",
       "      <td>10669100</td>\n",
       "      <td>2023450</td>\n",
       "    </tr>\n",
       "    <tr>\n",
       "      <th>Veneto</th>\n",
       "      <td>21822</td>\n",
       "      <td>5128170</td>\n",
       "      <td>6328380</td>\n",
       "      <td>1200210</td>\n",
       "    </tr>\n",
       "    <tr>\n",
       "      <th rowspan=\"3\" valign=\"top\">AB73FT</th>\n",
       "      <th>Liguria</th>\n",
       "      <td>1970</td>\n",
       "      <td>224580</td>\n",
       "      <td>328990</td>\n",
       "      <td>104410</td>\n",
       "    </tr>\n",
       "    <tr>\n",
       "      <th>Lombardia</th>\n",
       "      <td>35610</td>\n",
       "      <td>4059540</td>\n",
       "      <td>5946870</td>\n",
       "      <td>1887330</td>\n",
       "    </tr>\n",
       "    <tr>\n",
       "      <th>Veneto</th>\n",
       "      <td>20889</td>\n",
       "      <td>2381346</td>\n",
       "      <td>3488463</td>\n",
       "      <td>1107117</td>\n",
       "    </tr>\n",
       "    <tr>\n",
       "      <th rowspan=\"3\" valign=\"top\">K72FF</th>\n",
       "      <th>Liguria</th>\n",
       "      <td>2360</td>\n",
       "      <td>224200</td>\n",
       "      <td>287920</td>\n",
       "      <td>63720</td>\n",
       "    </tr>\n",
       "    <tr>\n",
       "      <th>Lombardia</th>\n",
       "      <td>34290</td>\n",
       "      <td>3257550</td>\n",
       "      <td>4183380</td>\n",
       "      <td>925830</td>\n",
       "    </tr>\n",
       "    <tr>\n",
       "      <th>Veneto</th>\n",
       "      <td>21525</td>\n",
       "      <td>2044875</td>\n",
       "      <td>2626050</td>\n",
       "      <td>581175</td>\n",
       "    </tr>\n",
       "    <tr>\n",
       "      <th rowspan=\"3\" valign=\"top\">LW46HT</th>\n",
       "      <th>Liguria</th>\n",
       "      <td>1990</td>\n",
       "      <td>314420</td>\n",
       "      <td>396010</td>\n",
       "      <td>81590</td>\n",
       "    </tr>\n",
       "    <tr>\n",
       "      <th>Lombardia</th>\n",
       "      <td>36545</td>\n",
       "      <td>5774110</td>\n",
       "      <td>7272455</td>\n",
       "      <td>1498345</td>\n",
       "    </tr>\n",
       "    <tr>\n",
       "      <th>Veneto</th>\n",
       "      <td>21705</td>\n",
       "      <td>3429390</td>\n",
       "      <td>4319295</td>\n",
       "      <td>889905</td>\n",
       "    </tr>\n",
       "  </tbody>\n",
       "</table>\n",
       "</div>"
      ],
      "text/plain": [
       "                      Quantità    Costo   Vendita  Margine\n",
       "CodiceProd Regione                                        \n",
       "A80DG      Liguria        2560   601600    742400   140800\n",
       "           Lombardia     36790  8645650  10669100  2023450\n",
       "           Veneto        21822  5128170   6328380  1200210\n",
       "AB73FT     Liguria        1970   224580    328990   104410\n",
       "           Lombardia     35610  4059540   5946870  1887330\n",
       "           Veneto        20889  2381346   3488463  1107117\n",
       "K72FF      Liguria        2360   224200    287920    63720\n",
       "           Lombardia     34290  3257550   4183380   925830\n",
       "           Veneto        21525  2044875   2626050   581175\n",
       "LW46HT     Liguria        1990   314420    396010    81590\n",
       "           Lombardia     36545  5774110   7272455  1498345\n",
       "           Veneto        21705  3429390   4319295   889905"
      ]
     },
     "execution_count": 28,
     "metadata": {},
     "output_type": "execute_result"
    }
   ],
   "source": [
    "tabella2=pd.pivot_table(vendite_totali,values=['Quantità','Costo','Vendita','Margine'],index=['CodiceProd','Regione'], aggfunc=\"sum\")\n",
    "tabella2 = tabella2[['Quantità', 'Costo', 'Vendita', 'Margine']]\n",
    "tabella2"
   ]
  },
  {
   "cell_type": "markdown",
   "id": "c01a2d56",
   "metadata": {},
   "source": [
    "# Vendite mensili e settimanali"
   ]
  },
  {
   "cell_type": "code",
   "execution_count": 29,
   "id": "f16485a2",
   "metadata": {},
   "outputs": [],
   "source": [
    "vendite_totali['Anno']=vendite_totali['Data'].dt.year"
   ]
  },
  {
   "cell_type": "code",
   "execution_count": 30,
   "id": "adc59b1b",
   "metadata": {},
   "outputs": [],
   "source": [
    "vendite_totali['Mese']=vendite_totali['Data'].dt.month"
   ]
  },
  {
   "cell_type": "code",
   "execution_count": 31,
   "id": "d5c6d4b9",
   "metadata": {},
   "outputs": [],
   "source": [
    "import calendar\n",
    "lista=[]\n",
    "for x in range(len(vendite_totali)):\n",
    "    lista.append(calendar.day_name[vendite_totali['Data'][x].weekday()])\n",
    "vendite_totali['Giorno']=lista"
   ]
  },
  {
   "cell_type": "code",
   "execution_count": 32,
   "id": "957fa63d",
   "metadata": {},
   "outputs": [
    {
     "data": {
      "text/html": [
       "<div>\n",
       "<style scoped>\n",
       "    .dataframe tbody tr th:only-of-type {\n",
       "        vertical-align: middle;\n",
       "    }\n",
       "\n",
       "    .dataframe tbody tr th {\n",
       "        vertical-align: top;\n",
       "    }\n",
       "\n",
       "    .dataframe thead th {\n",
       "        text-align: right;\n",
       "    }\n",
       "</style>\n",
       "<table border=\"1\" class=\"dataframe\">\n",
       "  <thead>\n",
       "    <tr style=\"text-align: right;\">\n",
       "      <th></th>\n",
       "      <th>Regione</th>\n",
       "      <th>Data</th>\n",
       "      <th>CodiceProd</th>\n",
       "      <th>Quantità</th>\n",
       "      <th>Costo</th>\n",
       "      <th>Vendita</th>\n",
       "      <th>Categoria</th>\n",
       "      <th>Margine</th>\n",
       "      <th>Anno</th>\n",
       "      <th>Mese</th>\n",
       "      <th>Giorno</th>\n",
       "    </tr>\n",
       "  </thead>\n",
       "  <tbody>\n",
       "    <tr>\n",
       "      <th>0</th>\n",
       "      <td>Liguria</td>\n",
       "      <td>2014-12-10</td>\n",
       "      <td>LW46HT</td>\n",
       "      <td>10</td>\n",
       "      <td>1580</td>\n",
       "      <td>1990</td>\n",
       "      <td>Audiovideo</td>\n",
       "      <td>410</td>\n",
       "      <td>2014</td>\n",
       "      <td>12</td>\n",
       "      <td>Wednesday</td>\n",
       "    </tr>\n",
       "    <tr>\n",
       "      <th>1</th>\n",
       "      <td>Liguria</td>\n",
       "      <td>2014-12-10</td>\n",
       "      <td>A80DG</td>\n",
       "      <td>15</td>\n",
       "      <td>3525</td>\n",
       "      <td>4350</td>\n",
       "      <td>Elettronica</td>\n",
       "      <td>825</td>\n",
       "      <td>2014</td>\n",
       "      <td>12</td>\n",
       "      <td>Wednesday</td>\n",
       "    </tr>\n",
       "    <tr>\n",
       "      <th>2</th>\n",
       "      <td>Liguria</td>\n",
       "      <td>2014-12-11</td>\n",
       "      <td>LW46HT</td>\n",
       "      <td>15</td>\n",
       "      <td>2370</td>\n",
       "      <td>2985</td>\n",
       "      <td>Audiovideo</td>\n",
       "      <td>615</td>\n",
       "      <td>2014</td>\n",
       "      <td>12</td>\n",
       "      <td>Thursday</td>\n",
       "    </tr>\n",
       "    <tr>\n",
       "      <th>3</th>\n",
       "      <td>Liguria</td>\n",
       "      <td>2014-12-11</td>\n",
       "      <td>A80DG</td>\n",
       "      <td>20</td>\n",
       "      <td>4700</td>\n",
       "      <td>5800</td>\n",
       "      <td>Elettronica</td>\n",
       "      <td>1100</td>\n",
       "      <td>2014</td>\n",
       "      <td>12</td>\n",
       "      <td>Thursday</td>\n",
       "    </tr>\n",
       "    <tr>\n",
       "      <th>4</th>\n",
       "      <td>Liguria</td>\n",
       "      <td>2014-12-12</td>\n",
       "      <td>LW46HT</td>\n",
       "      <td>20</td>\n",
       "      <td>3160</td>\n",
       "      <td>3980</td>\n",
       "      <td>Audiovideo</td>\n",
       "      <td>820</td>\n",
       "      <td>2014</td>\n",
       "      <td>12</td>\n",
       "      <td>Friday</td>\n",
       "    </tr>\n",
       "    <tr>\n",
       "      <th>...</th>\n",
       "      <td>...</td>\n",
       "      <td>...</td>\n",
       "      <td>...</td>\n",
       "      <td>...</td>\n",
       "      <td>...</td>\n",
       "      <td>...</td>\n",
       "      <td>...</td>\n",
       "      <td>...</td>\n",
       "      <td>...</td>\n",
       "      <td>...</td>\n",
       "      <td>...</td>\n",
       "    </tr>\n",
       "    <tr>\n",
       "      <th>5286</th>\n",
       "      <td>Veneto</td>\n",
       "      <td>2015-01-06</td>\n",
       "      <td>LW46HT</td>\n",
       "      <td>42</td>\n",
       "      <td>6636</td>\n",
       "      <td>8358</td>\n",
       "      <td>Audiovideo</td>\n",
       "      <td>1722</td>\n",
       "      <td>2015</td>\n",
       "      <td>1</td>\n",
       "      <td>Tuesday</td>\n",
       "    </tr>\n",
       "    <tr>\n",
       "      <th>5287</th>\n",
       "      <td>Veneto</td>\n",
       "      <td>2015-01-06</td>\n",
       "      <td>LW46HT</td>\n",
       "      <td>27</td>\n",
       "      <td>4266</td>\n",
       "      <td>5373</td>\n",
       "      <td>Audiovideo</td>\n",
       "      <td>1107</td>\n",
       "      <td>2015</td>\n",
       "      <td>1</td>\n",
       "      <td>Tuesday</td>\n",
       "    </tr>\n",
       "    <tr>\n",
       "      <th>5288</th>\n",
       "      <td>Veneto</td>\n",
       "      <td>2015-01-06</td>\n",
       "      <td>LW46HT</td>\n",
       "      <td>18</td>\n",
       "      <td>2844</td>\n",
       "      <td>3582</td>\n",
       "      <td>Audiovideo</td>\n",
       "      <td>738</td>\n",
       "      <td>2015</td>\n",
       "      <td>1</td>\n",
       "      <td>Tuesday</td>\n",
       "    </tr>\n",
       "    <tr>\n",
       "      <th>5289</th>\n",
       "      <td>Veneto</td>\n",
       "      <td>2015-01-06</td>\n",
       "      <td>LW46HT</td>\n",
       "      <td>48</td>\n",
       "      <td>7584</td>\n",
       "      <td>9552</td>\n",
       "      <td>Audiovideo</td>\n",
       "      <td>1968</td>\n",
       "      <td>2015</td>\n",
       "      <td>1</td>\n",
       "      <td>Tuesday</td>\n",
       "    </tr>\n",
       "    <tr>\n",
       "      <th>5290</th>\n",
       "      <td>Veneto</td>\n",
       "      <td>2015-01-06</td>\n",
       "      <td>LW46HT</td>\n",
       "      <td>48</td>\n",
       "      <td>7584</td>\n",
       "      <td>9552</td>\n",
       "      <td>Audiovideo</td>\n",
       "      <td>1968</td>\n",
       "      <td>2015</td>\n",
       "      <td>1</td>\n",
       "      <td>Tuesday</td>\n",
       "    </tr>\n",
       "  </tbody>\n",
       "</table>\n",
       "<p>5291 rows × 11 columns</p>\n",
       "</div>"
      ],
      "text/plain": [
       "      Regione       Data CodiceProd  Quantità  Costo  Vendita    Categoria  \\\n",
       "0     Liguria 2014-12-10     LW46HT        10   1580     1990   Audiovideo   \n",
       "1     Liguria 2014-12-10      A80DG        15   3525     4350  Elettronica   \n",
       "2     Liguria 2014-12-11     LW46HT        15   2370     2985   Audiovideo   \n",
       "3     Liguria 2014-12-11      A80DG        20   4700     5800  Elettronica   \n",
       "4     Liguria 2014-12-12     LW46HT        20   3160     3980   Audiovideo   \n",
       "...       ...        ...        ...       ...    ...      ...          ...   \n",
       "5286   Veneto 2015-01-06     LW46HT        42   6636     8358   Audiovideo   \n",
       "5287   Veneto 2015-01-06     LW46HT        27   4266     5373   Audiovideo   \n",
       "5288   Veneto 2015-01-06     LW46HT        18   2844     3582   Audiovideo   \n",
       "5289   Veneto 2015-01-06     LW46HT        48   7584     9552   Audiovideo   \n",
       "5290   Veneto 2015-01-06     LW46HT        48   7584     9552   Audiovideo   \n",
       "\n",
       "      Margine  Anno  Mese     Giorno  \n",
       "0         410  2014    12  Wednesday  \n",
       "1         825  2014    12  Wednesday  \n",
       "2         615  2014    12   Thursday  \n",
       "3        1100  2014    12   Thursday  \n",
       "4         820  2014    12     Friday  \n",
       "...       ...   ...   ...        ...  \n",
       "5286     1722  2015     1    Tuesday  \n",
       "5287     1107  2015     1    Tuesday  \n",
       "5288      738  2015     1    Tuesday  \n",
       "5289     1968  2015     1    Tuesday  \n",
       "5290     1968  2015     1    Tuesday  \n",
       "\n",
       "[5291 rows x 11 columns]"
      ]
     },
     "execution_count": 32,
     "metadata": {},
     "output_type": "execute_result"
    }
   ],
   "source": [
    "vendite_totali"
   ]
  },
  {
   "cell_type": "code",
   "execution_count": 33,
   "id": "116bdb44",
   "metadata": {},
   "outputs": [
    {
     "data": {
      "text/html": [
       "<div>\n",
       "<style scoped>\n",
       "    .dataframe tbody tr th:only-of-type {\n",
       "        vertical-align: middle;\n",
       "    }\n",
       "\n",
       "    .dataframe tbody tr th {\n",
       "        vertical-align: top;\n",
       "    }\n",
       "\n",
       "    .dataframe thead tr th {\n",
       "        text-align: left;\n",
       "    }\n",
       "\n",
       "    .dataframe thead tr:last-of-type th {\n",
       "        text-align: right;\n",
       "    }\n",
       "</style>\n",
       "<table border=\"1\" class=\"dataframe\">\n",
       "  <thead>\n",
       "    <tr>\n",
       "      <th></th>\n",
       "      <th>Anno</th>\n",
       "      <th>2014</th>\n",
       "      <th colspan=\"4\" halign=\"left\">2015</th>\n",
       "    </tr>\n",
       "    <tr>\n",
       "      <th></th>\n",
       "      <th>Mese</th>\n",
       "      <th>12</th>\n",
       "      <th>1</th>\n",
       "      <th>2</th>\n",
       "      <th>3</th>\n",
       "      <th>4</th>\n",
       "    </tr>\n",
       "    <tr>\n",
       "      <th>CodiceProd</th>\n",
       "      <th>Regione</th>\n",
       "      <th></th>\n",
       "      <th></th>\n",
       "      <th></th>\n",
       "      <th></th>\n",
       "      <th></th>\n",
       "    </tr>\n",
       "  </thead>\n",
       "  <tbody>\n",
       "    <tr>\n",
       "      <th rowspan=\"3\" valign=\"top\">A80DG</th>\n",
       "      <th>Liguria</th>\n",
       "      <td>345.0</td>\n",
       "      <td>780.0</td>\n",
       "      <td>480.0</td>\n",
       "      <td>755.0</td>\n",
       "      <td>200.0</td>\n",
       "    </tr>\n",
       "    <tr>\n",
       "      <th>Lombardia</th>\n",
       "      <td>16180.0</td>\n",
       "      <td>20610.0</td>\n",
       "      <td>NaN</td>\n",
       "      <td>NaN</td>\n",
       "      <td>NaN</td>\n",
       "    </tr>\n",
       "    <tr>\n",
       "      <th>Veneto</th>\n",
       "      <td>9714.0</td>\n",
       "      <td>12108.0</td>\n",
       "      <td>NaN</td>\n",
       "      <td>NaN</td>\n",
       "      <td>NaN</td>\n",
       "    </tr>\n",
       "    <tr>\n",
       "      <th rowspan=\"3\" valign=\"top\">AB73FT</th>\n",
       "      <th>Liguria</th>\n",
       "      <td>215.0</td>\n",
       "      <td>345.0</td>\n",
       "      <td>475.0</td>\n",
       "      <td>675.0</td>\n",
       "      <td>260.0</td>\n",
       "    </tr>\n",
       "    <tr>\n",
       "      <th>Lombardia</th>\n",
       "      <td>16625.0</td>\n",
       "      <td>18985.0</td>\n",
       "      <td>NaN</td>\n",
       "      <td>NaN</td>\n",
       "      <td>NaN</td>\n",
       "    </tr>\n",
       "    <tr>\n",
       "      <th>Veneto</th>\n",
       "      <td>9639.0</td>\n",
       "      <td>11250.0</td>\n",
       "      <td>NaN</td>\n",
       "      <td>NaN</td>\n",
       "      <td>NaN</td>\n",
       "    </tr>\n",
       "    <tr>\n",
       "      <th rowspan=\"3\" valign=\"top\">K72FF</th>\n",
       "      <th>Liguria</th>\n",
       "      <td>500.0</td>\n",
       "      <td>380.0</td>\n",
       "      <td>630.0</td>\n",
       "      <td>680.0</td>\n",
       "      <td>170.0</td>\n",
       "    </tr>\n",
       "    <tr>\n",
       "      <th>Lombardia</th>\n",
       "      <td>15900.0</td>\n",
       "      <td>18390.0</td>\n",
       "      <td>NaN</td>\n",
       "      <td>NaN</td>\n",
       "      <td>NaN</td>\n",
       "    </tr>\n",
       "    <tr>\n",
       "      <th>Veneto</th>\n",
       "      <td>10032.0</td>\n",
       "      <td>11493.0</td>\n",
       "      <td>NaN</td>\n",
       "      <td>NaN</td>\n",
       "      <td>NaN</td>\n",
       "    </tr>\n",
       "    <tr>\n",
       "      <th rowspan=\"3\" valign=\"top\">LW46HT</th>\n",
       "      <th>Liguria</th>\n",
       "      <td>385.0</td>\n",
       "      <td>535.0</td>\n",
       "      <td>585.0</td>\n",
       "      <td>175.0</td>\n",
       "      <td>310.0</td>\n",
       "    </tr>\n",
       "    <tr>\n",
       "      <th>Lombardia</th>\n",
       "      <td>17545.0</td>\n",
       "      <td>19000.0</td>\n",
       "      <td>NaN</td>\n",
       "      <td>NaN</td>\n",
       "      <td>NaN</td>\n",
       "    </tr>\n",
       "    <tr>\n",
       "      <th>Veneto</th>\n",
       "      <td>10449.0</td>\n",
       "      <td>11256.0</td>\n",
       "      <td>NaN</td>\n",
       "      <td>NaN</td>\n",
       "      <td>NaN</td>\n",
       "    </tr>\n",
       "  </tbody>\n",
       "</table>\n",
       "</div>"
      ],
      "text/plain": [
       "Anno                     2014     2015                     \n",
       "Mese                       12       1      2      3      4 \n",
       "CodiceProd Regione                                         \n",
       "A80DG      Liguria      345.0    780.0  480.0  755.0  200.0\n",
       "           Lombardia  16180.0  20610.0    NaN    NaN    NaN\n",
       "           Veneto      9714.0  12108.0    NaN    NaN    NaN\n",
       "AB73FT     Liguria      215.0    345.0  475.0  675.0  260.0\n",
       "           Lombardia  16625.0  18985.0    NaN    NaN    NaN\n",
       "           Veneto      9639.0  11250.0    NaN    NaN    NaN\n",
       "K72FF      Liguria      500.0    380.0  630.0  680.0  170.0\n",
       "           Lombardia  15900.0  18390.0    NaN    NaN    NaN\n",
       "           Veneto     10032.0  11493.0    NaN    NaN    NaN\n",
       "LW46HT     Liguria      385.0    535.0  585.0  175.0  310.0\n",
       "           Lombardia  17545.0  19000.0    NaN    NaN    NaN\n",
       "           Veneto     10449.0  11256.0    NaN    NaN    NaN"
      ]
     },
     "execution_count": 33,
     "metadata": {},
     "output_type": "execute_result"
    }
   ],
   "source": [
    "vendite_mensili=pd.pivot_table(vendite_totali,values='Quantità', index=['CodiceProd', 'Regione'], columns=['Anno','Mese'], aggfunc=\"sum\")\n",
    "vendite_mensili"
   ]
  },
  {
   "cell_type": "code",
   "execution_count": 34,
   "id": "ed096733",
   "metadata": {},
   "outputs": [
    {
     "data": {
      "text/plain": [
       "Giorno\n",
       "Monday       7479\n",
       "Sunday       7638\n",
       "Saturday     8106\n",
       "Wednesday    8196\n",
       "Tuesday      8415\n",
       "Name: Quantità, dtype: int64"
      ]
     },
     "execution_count": 34,
     "metadata": {},
     "output_type": "execute_result"
    }
   ],
   "source": [
    "#vendite Veneto Dicembre\n",
    "vendite_totali[(vendite_totali['Regione']=='Veneto')&(vendite_totali['Mese']==12)].groupby(by='Giorno').Quantità.sum().sort_values()"
   ]
  },
  {
   "cell_type": "code",
   "execution_count": 35,
   "id": "aa25a956",
   "metadata": {},
   "outputs": [
    {
     "data": {
      "text/plain": [
       "Text(0.5, 1.0, 'Vendite Veneto Dicembre')"
      ]
     },
     "execution_count": 35,
     "metadata": {},
     "output_type": "execute_result"
    },
    {
     "data": {
      "image/png": "[encoded data removed]",
      "text/plain": [
       "<Figure size 640x480 with 1 Axes>"
      ]
     },
     "metadata": {},
     "output_type": "display_data"
    }
   ],
   "source": [
    "vendite_totali[(vendite_totali['Regione']=='Veneto')&(vendite_totali['Mese']==12)].groupby(by='Giorno').Quantità.sum().sort_values().plot(kind='bar')\n",
    "plt.title('Vendite Veneto Dicembre')"
   ]
  },
  {
   "cell_type": "code",
   "execution_count": 36,
   "id": "ab1fe0e8",
   "metadata": {},
   "outputs": [
    {
     "data": {
      "text/plain": [
       "Giorno\n",
       "Monday       12535\n",
       "Sunday       12560\n",
       "Saturday     13475\n",
       "Wednesday    13540\n",
       "Tuesday      14140\n",
       "Name: Quantità, dtype: int64"
      ]
     },
     "execution_count": 36,
     "metadata": {},
     "output_type": "execute_result"
    }
   ],
   "source": [
    "#Vendite Lombardia Dicembre\n",
    "vendite_totali[(vendite_totali['Regione']=='Lombardia')&(vendite_totali['Mese']==12)].groupby(by='Giorno').Quantità.sum().sort_values()"
   ]
  },
  {
   "cell_type": "code",
   "execution_count": 37,
   "id": "39a7c773",
   "metadata": {},
   "outputs": [
    {
     "data": {
      "text/plain": [
       "Text(0.5, 1.0, 'Vendite Lombardia Dicembre')"
      ]
     },
     "execution_count": 37,
     "metadata": {},
     "output_type": "execute_result"
    },
    {
     "data": {
      "image/png": "[encoded data removed]",
      "text/plain": [
       "<Figure size 640x480 with 1 Axes>"
      ]
     },
     "metadata": {},
     "output_type": "display_data"
    }
   ],
   "source": [
    "vendite_totali[(vendite_totali['Regione']=='Lombardia')&(vendite_totali['Mese']==12)].groupby(by='Giorno').Quantità.sum().sort_values().plot(kind='bar',color='r')\n",
    "plt.title('Vendite Lombardia Dicembre')"
   ]
  },
  {
   "cell_type": "code",
   "execution_count": 38,
   "id": "0a1f98d2",
   "metadata": {},
   "outputs": [
    {
     "data": {
      "text/plain": [
       "Giorno\n",
       "Tuesday      135\n",
       "Friday       195\n",
       "Thursday     250\n",
       "Wednesday    275\n",
       "Saturday     285\n",
       "Sunday       305\n",
       "Name: Quantità, dtype: int64"
      ]
     },
     "execution_count": 38,
     "metadata": {},
     "output_type": "execute_result"
    }
   ],
   "source": [
    "#Vendite Liguria Dicembre\n",
    "vendite_totali[(vendite_totali['Regione']=='Liguria')&(vendite_totali['Mese']==12)].groupby(by='Giorno').Quantità.sum().sort_values()"
   ]
  },
  {
   "cell_type": "code",
   "execution_count": 39,
   "id": "be42c37a",
   "metadata": {},
   "outputs": [
    {
     "data": {
      "text/plain": [
       "Text(0.5, 1.0, 'Vendite Liguria Dicembre')"
      ]
     },
     "execution_count": 39,
     "metadata": {},
     "output_type": "execute_result"
    },
    {
     "data": {
      "image/png": "[encoded data removed]",
      "text/plain": [
       "<Figure size 640x480 with 1 Axes>"
      ]
     },
     "metadata": {},
     "output_type": "display_data"
    }
   ],
   "source": [
    "vendite_totali[(vendite_totali['Regione']=='Liguria')&(vendite_totali['Mese']==12)].groupby(by='Giorno').Quantità.sum().sort_values().plot(kind='bar',color='y')\n",
    "plt.title('Vendite Liguria Dicembre')"
   ]
  },
  {
   "cell_type": "code",
   "execution_count": 40,
   "id": "78679f0c",
   "metadata": {},
   "outputs": [
    {
     "data": {
      "text/plain": [
       "Giorno\n",
       "Saturday      80\n",
       "Sunday        85\n",
       "Wednesday    260\n",
       "Monday       365\n",
       "Friday       380\n",
       "Tuesday      425\n",
       "Thursday     445\n",
       "Name: Quantità, dtype: int64"
      ]
     },
     "execution_count": 40,
     "metadata": {},
     "output_type": "execute_result"
    }
   ],
   "source": [
    "#Vendite Liguria Gennaio\n",
    "vendite_totali[(vendite_totali['Regione']=='Liguria')&(vendite_totali['Mese']==1)].groupby(by='Giorno').Quantità.sum().sort_values()"
   ]
  },
  {
   "cell_type": "code",
   "execution_count": 41,
   "id": "3f96d922",
   "metadata": {},
   "outputs": [
    {
     "data": {
      "text/plain": [
       "Giorno\n",
       "Wednesday    215\n",
       "Friday       260\n",
       "Sunday       330\n",
       "Monday       360\n",
       "Saturday     485\n",
       "Tuesday      520\n",
       "Name: Quantità, dtype: int64"
      ]
     },
     "execution_count": 41,
     "metadata": {},
     "output_type": "execute_result"
    }
   ],
   "source": [
    "#Vendite Liguria Febbraio\n",
    "vendite_totali[(vendite_totali['Regione']=='Liguria')&(vendite_totali['Mese']==2)].groupby(by='Giorno').Quantità.sum().sort_values()"
   ]
  },
  {
   "cell_type": "code",
   "execution_count": 42,
   "id": "dfb0ef07",
   "metadata": {},
   "outputs": [
    {
     "data": {
      "text/plain": [
       "Giorno\n",
       "Tuesday       75\n",
       "Monday       255\n",
       "Friday       270\n",
       "Saturday     335\n",
       "Wednesday    350\n",
       "Sunday       480\n",
       "Thursday     520\n",
       "Name: Quantità, dtype: int64"
      ]
     },
     "execution_count": 42,
     "metadata": {},
     "output_type": "execute_result"
    }
   ],
   "source": [
    "#Vendite Liguria Marzo\n",
    "vendite_totali[(vendite_totali['Regione']=='Liguria')&(vendite_totali['Mese']==3)].groupby(by='Giorno').Quantità.sum().sort_values()"
   ]
  },
  {
   "cell_type": "markdown",
   "id": "ffee2849",
   "metadata": {},
   "source": [
    "# STREAMLIT"
   ]
  },
  {
   "cell_type": "code",
   "execution_count": 44,
   "id": "0c770a59",
   "metadata": {},
   "outputs": [
    {
     "name": "stderr",
     "output_type": "stream",
     "text": [
      "2023-11-11 16:46:21.062 \n",
      "  \u001b[33m\u001b[1mWarning:\u001b[0m to view this Streamlit app on a browser, run it with the following\n",
      "  command:\n",
      "\n",
      "    streamlit run C:\\Users\\aless\\OneDrive\\Documenti\\ANACONDA\\lib\\site-packages\\ipykernel_launcher.py [ARGUMENTS]\n"
     ]
    },
    {
     "data": {
      "text/plain": [
       "DeltaGenerator()"
      ]
     },
     "execution_count": 44,
     "metadata": {},
     "output_type": "execute_result"
    }
   ],
   "source": [
    "import streamlit as st\n",
    "st.title('hello')"
   ]
  },
  {
   "cell_type": "code",
   "execution_count": 47,
   "id": "2de8df17",
   "metadata": {},
   "outputs": [
    {
     "ename": "SyntaxError",
     "evalue": "unexpected character after line continuation character (3754188848.py, line 1)",
     "output_type": "error",
     "traceback": [
      "\u001b[1;36m  Cell \u001b[1;32mIn[47], line 1\u001b[1;36m\u001b[0m\n\u001b[1;33m    C:\\Users\\aless\\OneDrive\\Documenti\\ANACONDA\\lib\\site-packages\\ipykernel_launcher.py [ARGUMENTS]\u001b[0m\n\u001b[1;37m       ^\u001b[0m\n\u001b[1;31mSyntaxError\u001b[0m\u001b[1;31m:\u001b[0m unexpected character after line continuation character\n"
     ]
    }
   ],
   "source": [
    "C:\\Users\\aless\\OneDrive\\Documenti\\ANACONDA\\lib\\site-packages\\ipykernel_launcher.py [ARGUMENTS]"
   ]
  },
  {
   "cell_type": "code",
   "execution_count": null,
   "id": "080fe276",
   "metadata": {},
   "outputs": [],
   "source": []
  }
 ],
 "metadata": {
  "kernelspec": {
   "display_name": "Python 3 (ipykernel)",
   "language": "python",
   "name": "python3"
  },
  "language_info": {
   "codemirror_mode": {
    "name": "ipython",
    "version": 3
   },
   "file_extension": ".py",
   "mimetype": "text/x-python",
   "name": "python",
   "nbconvert_exporter": "python",
   "pygments_lexer": "ipython3",
   "version": "3.10.9"
  }
 },
 "nbformat": 4,
 "nbformat_minor": 5
}
